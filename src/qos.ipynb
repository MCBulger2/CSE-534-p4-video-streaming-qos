{
 "cells": [
  {
   "cell_type": "markdown",
   "metadata": {},
   "source": [
    "# Exploring P4 and its applications for QoS in video streaming\n",
    "\n",
    "## By: Matthew Bulger\n",
    "\n",
    "This notebook is based off of the P4 FABRIC example (complex_recipes/P4_bmv2) to experiment with HTTP/2 and QUIC video streaming in the FABRIC testbed."
   ]
  },
  {
   "cell_type": "markdown",
   "metadata": {},
   "source": [
    "## Basic FABRIC Slice Configuration"
   ]
  },
  {
   "cell_type": "code",
   "execution_count": 1,
   "metadata": {},
   "outputs": [],
   "source": [
    "import json\n",
    "import traceback\n",
    "from fabrictestbed_extensions.fablib.fablib import fablib"
   ]
  },
  {
   "cell_type": "code",
   "execution_count": 2,
   "metadata": {
    "tags": []
   },
   "outputs": [
    {
     "name": "stdout",
     "output_type": "stream",
     "text": [
      "Name      CPUs  Cores    RAM (G)    Disk (G)       Basic (100 Gbps NIC)    ConnectX-6 (100 Gbps x2 NIC)    ConnectX-5 (25 Gbps x2 NIC)    P4510 (NVMe 1TB)    Tesla T4 (GPU)    RTX6000 (GPU)\n",
      "------  ------  -------  ---------  -------------  ----------------------  ------------------------------  -----------------------------  ------------------  ----------------  ---------------\n",
      "MICH         6  132/192  1360/1536  60470/60600    373/381                 2/2                             2/2                            10/10               2/2               3/3\n",
      "WASH         6  180/192  1500/1536  60398/60600    370/381                 2/2                             2/2                            10/10               2/2               3/3\n",
      "TACC        10  206/320  2068/2560  114422/116400  553/635                 2/2                             2/4                            16/16               4/4               6/6\n",
      "UTAH        10  226/320  2312/2560  115970/116400  612/635                 2/2                             4/4                            16/16               4/4               5/5\n",
      "NCSA         6  192/192  1536/1536  60600/60600    381/381                 2/2                             2/2                            10/10               2/2               3/3\n",
      "DALL         6  28/192   1008/1536  59108/60600    345/381                 2/2                             0/2                            10/10               2/2               3/3\n",
      "SALT         6  94/192   1212/1536  60320/60600    360/381                 2/2                             2/2                            10/10               2/2               3/3\n",
      "STAR         0  0/0      0/0        0/0            0/0                     0/0                             0/0                            0/0                 0/0               0/0\n",
      "AL2S         0  0/0      0/0        0/0            0/0                     0/0                             0/0                            0/0                 0/0               0/0\n",
      "GPN         10  320/320  2560/2560  116400/116400  635/635                 2/2                             4/4                            16/16               4/4               6/6\n",
      "MASS         6  162/192  1428/1536  60210/60600    354/381                 2/2                             2/2                            10/10               2/2               3/3\n",
      "UCSD        10  102/320  1972/2560  115058/116400  591/635                 2/2                             0/4                            16/16               0/4               6/6\n",
      "CLEM         6  174/192  1400/1536  60500/60600    376/381                 2/2                             2/2                            10/10               2/2               3/3\n",
      "FIU         10  212/320  1892/2560  115918/116400  621/635                 2/2                             4/4                            16/16               4/4               4/6\n",
      "MAX          0  0/0      0/0        0/0            0/0                     0/0                             0/0                            0/0                 0/0               0/0\n"
     ]
    }
   ],
   "source": [
    "try:\n",
    "    print(f\"{fablib.list_sites()}\")\n",
    "except Exception as e:\n",
    "    print(f\"Exception: {e}\")"
   ]
  },
  {
   "cell_type": "markdown",
   "metadata": {
    "tags": []
   },
   "source": [
    "## Configure Slice Parameters\n",
    "\n",
    "In this section, we configure the slice paramters to have 3 end hosts, `h1`, `h2`, and `h3`, which are connected with 3 P4 switches, `s1`, `s2`, and `s3`.\n",
    "\n"
   ]
  },
  {
   "cell_type": "code",
   "execution_count": 32,
   "metadata": {
    "tags": []
   },
   "outputs": [
    {
     "name": "stdout",
     "output_type": "stream",
     "text": [
      "Sites: TACC,TACC,TACC\n"
     ]
    }
   ],
   "source": [
    "from ipaddress import ip_address, IPv4Address, IPv6Address, IPv4Network, IPv6Network\n",
    "\n",
    "# Slice \n",
    "slice_name = 'p4_video_streaming'\n",
    "\n",
    "[site1,site2,site3] = fablib.get_random_sites(count=3)\n",
    "site1 = site2 = site3 = \"TACC\" # I was only able to get this working with all nodes on the same site currently\n",
    "print(f\"Sites: {site1},{site2},{site3}\")\n",
    "\n",
    "# Switches\n",
    "s1_name = \"s1\"\n",
    "s2_name = \"s2\"\n",
    "s3_name = \"s3\"\n",
    "\n",
    "switch_cores = 2\n",
    "switch_ram = 8\n",
    "switch_disk = 100\n",
    "\n",
    "# Hosts\n",
    "h1_name = \"h1\"\n",
    "h2_name = \"h2\"\n",
    "h3_name = \"h3\"\n",
    "\n",
    "h1_subnet=IPv4Network('10.0.1.0/24')\n",
    "h1_addr=IPv4Address('10.0.1.1')\n",
    "\n",
    "h2_subnet=IPv4Network('10.0.2.0/24')\n",
    "h2_addr=IPv4Address('10.0.2.2')\n",
    "\n",
    "h3_subnet=IPv4Network('10.0.3.0/24')\n",
    "h3_addr=IPv4Address('10.0.3.3')\n",
    "\n",
    "host_cores = 2\n",
    "host_ram = 8\n",
    "host_disk = 10\n",
    "server_disk = 100\n",
    "\n",
    "net_h1_name = 'net_h1'\n",
    "net_h2_name = 'net_h2'\n",
    "net_h3_name = 'net_h3'\n",
    "\n",
    "net_s1_s2_name = 'net_s1_s2'\n",
    "net_s2_s3_name = 'net_s2_s3'\n",
    "net_s1_s3_name = 'net_s1_s3'\n",
    "\n",
    "# All node properties\n",
    "image = 'default_ubuntu_20'"
   ]
  },
  {
   "cell_type": "markdown",
   "metadata": {},
   "source": [
    "### Create the Slice"
   ]
  },
  {
   "cell_type": "code",
   "execution_count": 33,
   "metadata": {
    "tags": []
   },
   "outputs": [
    {
     "name": "stdout",
     "output_type": "stream",
     "text": [
      "\n",
      "-----------  ------------------------------------\n",
      "Slice Name   p4_video_streaming\n",
      "Slice ID     7370ea88-d3aa-4043-8204-6b71ec1d7c23\n",
      "Slice State  StableOK\n",
      "Lease End    2022-12-08 02:44:17 +0000\n",
      "-----------  ------------------------------------\n",
      "\n",
      "Retry: 9, Time: 189 sec\n",
      "\n",
      "ID                                    Name    Site    Host                          Cores    RAM    Disk  Image              Management IP    State    Error\n",
      "------------------------------------  ------  ------  --------------------------  -------  -----  ------  -----------------  ---------------  -------  -------\n",
      "c62c73f2-62d2-4eff-8486-aadb0833ab57  s1      TACC    tacc-w2.fabric-testbed.net        2      8     100  default_ubuntu_20  129.114.110.69   Active\n",
      "7427bc68-e8c2-431a-b522-7ceadacde9c0  s2      TACC    tacc-w2.fabric-testbed.net        2      8     100  default_ubuntu_20  129.114.110.91   Active\n",
      "28f094db-e33a-4a86-b7b3-d8d773228905  s3      TACC    tacc-w2.fabric-testbed.net        2      8     100  default_ubuntu_20  129.114.110.120  Active\n",
      "85241462-fd6e-40c0-b4dd-e0bf6590b998  h1      TACC    tacc-w2.fabric-testbed.net        2      8      10  default_ubuntu_20  129.114.110.114  Active\n",
      "f70c5399-f8bf-40de-ae57-5036c196dc6b  h2      TACC    tacc-w2.fabric-testbed.net        2      8     100  default_ubuntu_20  129.114.110.90   Active\n",
      "4633879f-c0d0-43a2-a206-749b56922c7d  h3      TACC    tacc-w2.fabric-testbed.net        2      8      10  default_ubuntu_20  129.114.110.72   Active\n",
      "\n",
      "Time to stable 189 seconds\n",
      "Running post_boot_config ... Time to post boot config 223 seconds\n",
      "\n",
      "Name                  Node    Network      Bandwidth  VLAN    MAC                Physical OS Interface    OS Interface\n",
      "--------------------  ------  ---------  -----------  ------  -----------------  -----------------------  --------------\n",
      "s1-s1_switch_nic2-p1  s1      net_s1_s3            0          02:EE:00:C6:75:96  ens9                     ens9\n",
      "s1-s1_local_nic-p1    s1      net_h1               0          02:2A:1F:68:A6:C7  ens7                     ens7\n",
      "s1-s1_switch_nic1-p1  s1      net_s1_s2            0          02:7F:22:D0:3A:53  ens8                     ens8\n",
      "s2-s2_switch_nic2-p1  s2      net_s2_s3            0          06:A8:0F:D7:32:FB  ens8                     ens8\n",
      "s2-s2_local_nic-p1    s2      net_h2               0          0A:A6:17:C6:65:D0  ens9                     ens9\n",
      "s2-s2_switch_nic1-p1  s2      net_s1_s2            0          06:09:BC:72:F3:EF  ens7                     ens7\n",
      "s3-s3_switch_nic1-p1  s3      net_s1_s3            0          1A:3E:34:21:4F:BB  ens9                     ens9\n",
      "s3-s3_switch_nic2-p1  s3      net_s2_s3            0          1A:19:74:69:7E:2F  ens8                     ens8\n",
      "s3-s3_local_nic-p1    s3      net_h3               0          16:3E:2A:C5:5E:FA  ens7                     ens7\n",
      "h1-h1_nic-p1          h1      net_h1               0          1A:D4:14:82:E9:10  ens7                     ens7\n",
      "h2-h2_nic-p1          h2      net_h2               0          1E:51:7F:17:D6:38  ens7                     ens7\n",
      "h3-h3_nic-p1          h3      net_h3               0          1E:83:69:36:DA:FF  ens7                     ens7\n",
      "\n",
      "Time to print interfaces 257 seconds\n"
     ]
    }
   ],
   "source": [
    "try:\n",
    "    #Create Slice\n",
    "    slice = fablib.new_slice(name=slice_name)\n",
    "    \n",
    "    # Add switch node s1\n",
    "    s1 = slice.add_node(name=s1_name, site=site1,  image=image, \n",
    "                        cores=switch_cores, ram=switch_ram, disk=switch_disk)\n",
    "    s1.set_capacities(cores=switch_cores, ram=switch_ram, disk=switch_disk)\n",
    "    s1_iface_local = s1.add_component(model='NIC_Basic', name=\"s1_local_nic\").get_interfaces()[0]\n",
    "    s1_iface_to_s2 = s1.add_component(model='NIC_Basic', name=\"s1_switch_nic1\").get_interfaces()[0]\n",
    "    s1_iface_to_s3 = s1.add_component(model='NIC_Basic', name=\"s1_switch_nic2\").get_interfaces()[0]\n",
    "\n",
    "    # Add switch node s2\n",
    "    s2 = slice.add_node(name=s2_name, site=site2,  image=image, \n",
    "                        cores=switch_cores, ram=switch_ram, disk=switch_disk)\n",
    "    s2_iface_local = s2.add_component(model='NIC_Basic', name=\"s2_local_nic\").get_interfaces()[0]\n",
    "    s2_iface_to_s1 = s2.add_component(model='NIC_Basic', name=\"s2_switch_nic1\").get_interfaces()[0]\n",
    "    s2_iface_to_s3 = s2.add_component(model='NIC_Basic', name=\"s2_switch_nic2\").get_interfaces()[0]\n",
    "    \n",
    "    # Add switch node s3\n",
    "    s3 = slice.add_node(name=s3_name, site=site3,  image=image, \n",
    "                        cores=switch_cores, ram=switch_ram, disk=switch_disk)\n",
    "    s3_iface_local = s3.add_component(model='NIC_Basic', name=\"s3_local_nic\").get_interfaces()[0]\n",
    "    s3_iface_to_s1 = s3.add_component(model='NIC_Basic', name=\"s3_switch_nic1\").get_interfaces()[0]\n",
    "    s3_iface_to_s2 = s3.add_component(model='NIC_Basic', name=\"s3_switch_nic2\").get_interfaces()[0]    \n",
    "    \n",
    "    # Add host node h1\n",
    "    h1 = slice.add_node(name=h1_name, site=site1, image=image,\n",
    "                        cores=host_cores, ram=host_ram, disk=host_disk)\n",
    "    h1_iface = h1.add_component(model='NIC_Basic', name=\"h1_nic\").get_interfaces()[0]\n",
    "    \n",
    "    # Add host node h2\n",
    "    h2 = slice.add_node(name=h2_name, site=site2, image=image,\n",
    "                        cores=host_cores, ram=host_ram, disk=server_disk)\n",
    "    h2_iface = h2.add_component(model='NIC_Basic', name=\"h2_nic\").get_interfaces()[0]\n",
    "    \n",
    "    # Add host node h3\n",
    "    h3 = slice.add_node(name=h3_name, site=site3, image=image,\n",
    "                        cores=host_cores, ram=host_ram, disk=host_disk)\n",
    "    h3_iface = h3.add_component(model='NIC_Basic', name=\"h3_nic\").get_interfaces()[0]\n",
    "    \n",
    "    #Add swtich networks\n",
    "    switch_net1 = slice.add_l2network(name=net_s1_s2_name, interfaces=[s1_iface_to_s2, s2_iface_to_s1])\n",
    "    swtich_net2 = slice.add_l2network(name=net_s2_s3_name, interfaces=[s2_iface_to_s3, s3_iface_to_s2])\n",
    "    swtich_net3 = slice.add_l2network(name=net_s1_s3_name, interfaces=[s3_iface_to_s1, s1_iface_to_s3])\n",
    "\n",
    "    #Add host networks \n",
    "    host_net1 = slice.add_l2network(name=net_h1_name, interfaces=[s1_iface_local, h1_iface])\n",
    "    host_net2 = slice.add_l2network(name=net_h2_name, interfaces=[s2_iface_local, h2_iface])\n",
    "    host_net3 = slice.add_l2network(name=net_h3_name, interfaces=[s3_iface_local, h3_iface])\n",
    "    \n",
    "    #Submit Slice Request\n",
    "    slice.submit() \n",
    "except Exception as e:\n",
    "    print(f\"Error: {e}\")\n",
    "    traceback.print_exc()\n",
    "    "
   ]
  },
  {
   "cell_type": "markdown",
   "metadata": {
    "tags": []
   },
   "source": [
    "## Observe the Slice's Attributes\n",
    "\n",
    "### Print the slice"
   ]
  },
  {
   "cell_type": "code",
   "execution_count": 34,
   "metadata": {},
   "outputs": [
    {
     "name": "stdout",
     "output_type": "stream",
     "text": [
      "-----------  ------------------------------------\n",
      "Slice Name   p4_video_streaming\n",
      "Slice ID     7370ea88-d3aa-4043-8204-6b71ec1d7c23\n",
      "Slice State  StableOK\n",
      "Lease End    2022-12-08 02:44:17 +0000\n",
      "-----------  ------------------------------------\n"
     ]
    }
   ],
   "source": [
    "try:\n",
    "    slice = fablib.get_slice(name=slice_name)\n",
    "    print(f\"{slice}\")\n",
    "except Exception as e:\n",
    "    print(f\"Exception: {e}\")"
   ]
  },
  {
   "cell_type": "markdown",
   "metadata": {
    "tags": []
   },
   "source": [
    "### Print the Node List"
   ]
  },
  {
   "cell_type": "code",
   "execution_count": 35,
   "metadata": {},
   "outputs": [
    {
     "name": "stdout",
     "output_type": "stream",
     "text": [
      "ID                                    Name    Site    Host                          Cores    RAM    Disk  Image              Management IP    State    Error\n",
      "------------------------------------  ------  ------  --------------------------  -------  -----  ------  -----------------  ---------------  -------  -------\n",
      "c62c73f2-62d2-4eff-8486-aadb0833ab57  s1      TACC    tacc-w2.fabric-testbed.net        2      8     100  default_ubuntu_20  129.114.110.69   Active\n",
      "7427bc68-e8c2-431a-b522-7ceadacde9c0  s2      TACC    tacc-w2.fabric-testbed.net        2      8     100  default_ubuntu_20  129.114.110.91   Active\n",
      "28f094db-e33a-4a86-b7b3-d8d773228905  s3      TACC    tacc-w2.fabric-testbed.net        2      8     100  default_ubuntu_20  129.114.110.120  Active\n",
      "85241462-fd6e-40c0-b4dd-e0bf6590b998  h1      TACC    tacc-w2.fabric-testbed.net        2      8      10  default_ubuntu_20  129.114.110.114  Active\n",
      "f70c5399-f8bf-40de-ae57-5036c196dc6b  h2      TACC    tacc-w2.fabric-testbed.net        2      8     100  default_ubuntu_20  129.114.110.90   Active\n",
      "4633879f-c0d0-43a2-a206-749b56922c7d  h3      TACC    tacc-w2.fabric-testbed.net        2      8      10  default_ubuntu_20  129.114.110.72   Active\n"
     ]
    }
   ],
   "source": [
    "try:\n",
    "    slice = fablib.get_slice(name=slice_name)\n",
    "\n",
    "    print(f\"{slice.list_nodes()}\")\n",
    "except Exception as e:\n",
    "    print(f\"Exception: {e}\")"
   ]
  },
  {
   "cell_type": "markdown",
   "metadata": {},
   "source": [
    "### Print the Node Details"
   ]
  },
  {
   "cell_type": "code",
   "execution_count": 36,
   "metadata": {
    "tags": []
   },
   "outputs": [
    {
     "name": "stdout",
     "output_type": "stream",
     "text": [
      "-----------------  -------------------------------------------------------------------------------------------------------------------------------\n",
      "ID                 c62c73f2-62d2-4eff-8486-aadb0833ab57\n",
      "Name               s1\n",
      "Cores              2\n",
      "RAM                8\n",
      "Disk               100\n",
      "Image              default_ubuntu_20\n",
      "Image Type         qcow2\n",
      "Host               tacc-w2.fabric-testbed.net\n",
      "Site               TACC\n",
      "Management IP      129.114.110.69\n",
      "Reservation State  Active\n",
      "Error Message\n",
      "SSH Command        ssh -i /home/fabric/work/fabric_config/project-sliver -J mbulger1_0000023519@bastion-1.fabric-testbed.net ubuntu@129.114.110.69\n",
      "-----------------  -------------------------------------------------------------------------------------------------------------------------------\n",
      "-----------------  -------------------------------------------------------------------------------------------------------------------------------\n",
      "ID                 7427bc68-e8c2-431a-b522-7ceadacde9c0\n",
      "Name               s2\n",
      "Cores              2\n",
      "RAM                8\n",
      "Disk               100\n",
      "Image              default_ubuntu_20\n",
      "Image Type         qcow2\n",
      "Host               tacc-w2.fabric-testbed.net\n",
      "Site               TACC\n",
      "Management IP      129.114.110.91\n",
      "Reservation State  Active\n",
      "Error Message\n",
      "SSH Command        ssh -i /home/fabric/work/fabric_config/project-sliver -J mbulger1_0000023519@bastion-1.fabric-testbed.net ubuntu@129.114.110.91\n",
      "-----------------  -------------------------------------------------------------------------------------------------------------------------------\n",
      "-----------------  --------------------------------------------------------------------------------------------------------------------------------\n",
      "ID                 28f094db-e33a-4a86-b7b3-d8d773228905\n",
      "Name               s3\n",
      "Cores              2\n",
      "RAM                8\n",
      "Disk               100\n",
      "Image              default_ubuntu_20\n",
      "Image Type         qcow2\n",
      "Host               tacc-w2.fabric-testbed.net\n",
      "Site               TACC\n",
      "Management IP      129.114.110.120\n",
      "Reservation State  Active\n",
      "Error Message\n",
      "SSH Command        ssh -i /home/fabric/work/fabric_config/project-sliver -J mbulger1_0000023519@bastion-1.fabric-testbed.net ubuntu@129.114.110.120\n",
      "-----------------  --------------------------------------------------------------------------------------------------------------------------------\n",
      "-----------------  --------------------------------------------------------------------------------------------------------------------------------\n",
      "ID                 85241462-fd6e-40c0-b4dd-e0bf6590b998\n",
      "Name               h1\n",
      "Cores              2\n",
      "RAM                8\n",
      "Disk               10\n",
      "Image              default_ubuntu_20\n",
      "Image Type         qcow2\n",
      "Host               tacc-w2.fabric-testbed.net\n",
      "Site               TACC\n",
      "Management IP      129.114.110.114\n",
      "Reservation State  Active\n",
      "Error Message\n",
      "SSH Command        ssh -i /home/fabric/work/fabric_config/project-sliver -J mbulger1_0000023519@bastion-1.fabric-testbed.net ubuntu@129.114.110.114\n",
      "-----------------  --------------------------------------------------------------------------------------------------------------------------------\n",
      "-----------------  -------------------------------------------------------------------------------------------------------------------------------\n",
      "ID                 f70c5399-f8bf-40de-ae57-5036c196dc6b\n",
      "Name               h2\n",
      "Cores              2\n",
      "RAM                8\n",
      "Disk               100\n",
      "Image              default_ubuntu_20\n",
      "Image Type         qcow2\n",
      "Host               tacc-w2.fabric-testbed.net\n",
      "Site               TACC\n",
      "Management IP      129.114.110.90\n",
      "Reservation State  Active\n",
      "Error Message\n",
      "SSH Command        ssh -i /home/fabric/work/fabric_config/project-sliver -J mbulger1_0000023519@bastion-1.fabric-testbed.net ubuntu@129.114.110.90\n",
      "-----------------  -------------------------------------------------------------------------------------------------------------------------------\n",
      "-----------------  -------------------------------------------------------------------------------------------------------------------------------\n",
      "ID                 4633879f-c0d0-43a2-a206-749b56922c7d\n",
      "Name               h3\n",
      "Cores              2\n",
      "RAM                8\n",
      "Disk               10\n",
      "Image              default_ubuntu_20\n",
      "Image Type         qcow2\n",
      "Host               tacc-w2.fabric-testbed.net\n",
      "Site               TACC\n",
      "Management IP      129.114.110.72\n",
      "Reservation State  Active\n",
      "Error Message\n",
      "SSH Command        ssh -i /home/fabric/work/fabric_config/project-sliver -J mbulger1_0000023519@bastion-1.fabric-testbed.net ubuntu@129.114.110.72\n",
      "-----------------  -------------------------------------------------------------------------------------------------------------------------------\n"
     ]
    }
   ],
   "source": [
    "try:\n",
    "    slice = fablib.get_slice(name=slice_name)\n",
    "    for node in slice.get_nodes():\n",
    "        print(f\"{node}\")\n",
    "except Exception as e:\n",
    "    print(f\"Exception: {e}\")"
   ]
  },
  {
   "cell_type": "markdown",
   "metadata": {},
   "source": [
    "### Print the Node SSH Commands"
   ]
  },
  {
   "cell_type": "code",
   "execution_count": null,
   "metadata": {},
   "outputs": [],
   "source": [
    "try:\n",
    "    slice = fablib.get_slice(name=slice_name)\n",
    "    for node in slice.get_nodes():\n",
    "        print(f\"{node.get_name()}: {node.get_ssh_command()}\")\n",
    "except Exception as e:\n",
    "    print(f\"Exception: {e}\")"
   ]
  },
  {
   "cell_type": "markdown",
   "metadata": {},
   "source": [
    "### Print the Interfaces"
   ]
  },
  {
   "cell_type": "code",
   "execution_count": 37,
   "metadata": {
    "tags": []
   },
   "outputs": [
    {
     "name": "stdout",
     "output_type": "stream",
     "text": [
      "Name                  Node    Network      Bandwidth  VLAN    MAC                Physical OS Interface    OS Interface\n",
      "--------------------  ------  ---------  -----------  ------  -----------------  -----------------------  --------------\n",
      "s1-s1_switch_nic2-p1  s1      net_s1_s3            0          02:EE:00:C6:75:96  ens9                     ens9\n",
      "s1-s1_local_nic-p1    s1      net_h1               0          02:2A:1F:68:A6:C7  ens7                     ens7\n",
      "s1-s1_switch_nic1-p1  s1      net_s1_s2            0          02:7F:22:D0:3A:53  ens8                     ens8\n",
      "s2-s2_switch_nic2-p1  s2      net_s2_s3            0          06:A8:0F:D7:32:FB  ens8                     ens8\n",
      "s2-s2_local_nic-p1    s2      net_h2               0          0A:A6:17:C6:65:D0  ens9                     ens9\n",
      "s2-s2_switch_nic1-p1  s2      net_s1_s2            0          06:09:BC:72:F3:EF  ens7                     ens7\n",
      "s3-s3_switch_nic1-p1  s3      net_s1_s3            0          1A:3E:34:21:4F:BB  ens9                     ens9\n",
      "s3-s3_switch_nic2-p1  s3      net_s2_s3            0          1A:19:74:69:7E:2F  ens8                     ens8\n",
      "s3-s3_local_nic-p1    s3      net_h3               0          16:3E:2A:C5:5E:FA  ens7                     ens7\n",
      "h1-h1_nic-p1          h1      net_h1               0          1A:D4:14:82:E9:10  ens7                     ens7\n",
      "h2-h2_nic-p1          h2      net_h2               0          1E:51:7F:17:D6:38  ens7                     ens7\n",
      "h3-h3_nic-p1          h3      net_h3               0          1E:83:69:36:DA:FF  ens7                     ens7\n"
     ]
    }
   ],
   "source": [
    "try:\n",
    "    slice = fablib.get_slice(name=slice_name)\n",
    "    \n",
    "    print(f\"{slice.list_interfaces()}\")\n",
    "except Exception as e:\n",
    "    print(f\"Exception: {e}\")"
   ]
  },
  {
   "cell_type": "markdown",
   "metadata": {},
   "source": [
    "## Configure Nodes\n"
   ]
  },
  {
   "cell_type": "code",
   "execution_count": 38,
   "metadata": {
    "tags": []
   },
   "outputs": [],
   "source": [
    "config_threads = {}"
   ]
  },
  {
   "cell_type": "code",
   "execution_count": 39,
   "metadata": {
    "tags": []
   },
   "outputs": [],
   "source": [
    "host_config_script = \"sudo apt-get update -qq && sudo apt-get install -qq -y python3-scapy && git clone https://github.com/p4lang/tutorials.git/\" \n",
    "\n",
    "try:\n",
    "    \n",
    "    \n",
    "    h1 = slice.get_node(name=h1_name)        \n",
    "    if type(ip_address(h1.get_management_ip())) is IPv6Address:\n",
    "        h1.execute(\"sudo sed -i '/nameserver/d' /etc/resolv.conf && sudo sh -c 'echo nameserver 2a00:1098:2c::1 >> /etc/resolv.conf' && sudo sh -c 'echo nameserver 2a01:4f8:c2c:123f::1 >> /etc/resolv.conf' && sudo sh -c 'echo nameserver 2a00:1098:2b::1 >> /etc/resolv.conf'\")\n",
    "       \n",
    "    h1_os_iface = h1.get_interface(network_name=net_h1_name)\n",
    "    h1_os_iface.ip_addr_add(addr=h1_addr, subnet=h1_subnet)\n",
    "    h1_config_thread = h1.execute_thread(host_config_script)\n",
    "    config_threads[h1] = h1_config_thread\n",
    "\n",
    "    \n",
    "    h2 = slice.get_node(name=h2_name)\n",
    "    if type(ip_address(h2.get_management_ip())) is IPv6Address:\n",
    "        h2.execute(\"sudo sed -i '/nameserver/d' /etc/resolv.conf && sudo sh -c 'echo nameserver 2a00:1098:2c::1 >> /etc/resolv.conf' && sudo sh -c 'echo nameserver 2a01:4f8:c2c:123f::1 >> /etc/resolv.conf' && sudo sh -c 'echo nameserver 2a00:1098:2b::1 >> /etc/resolv.conf'\")\n",
    " \n",
    "    h2_os_iface = h2.get_interface(network_name=net_h2_name)\n",
    "    h2_os_iface.ip_addr_add(addr=h2_addr, subnet=h2_subnet)\n",
    "    h2_config_thread = h2.execute_thread(host_config_script)\n",
    "    config_threads[h2] = h2_config_thread\n",
    "\n",
    "    h3 = slice.get_node(name=h3_name)\n",
    "    if type(ip_address(h3.get_management_ip())) is IPv6Address:\n",
    "        h3.execute(\"sudo sed -i '/nameserver/d' /etc/resolv.conf && sudo sh -c 'echo nameserver 2a00:1098:2c::1 >> /etc/resolv.conf' && sudo sh -c 'echo nameserver 2a01:4f8:c2c:123f::1 >> /etc/resolv.conf' && sudo sh -c 'echo nameserver 2a00:1098:2b::1 >> /etc/resolv.conf'\")\n",
    " \n",
    "    h3_os_iface = h3.get_interface(network_name=net_h3_name)\n",
    "    h3_os_iface.ip_addr_add(addr=h3_addr, subnet=h3_subnet)\n",
    "    h3_config_thread = h3.execute_thread(host_config_script)\n",
    "    config_threads[h3] = h3_config_thread\n",
    "\n",
    "except Exception as e:\n",
    "    print(f\"Error: {e}\")\n",
    "    traceback.print_exc()"
   ]
  },
  {
   "cell_type": "markdown",
   "metadata": {},
   "source": [
    "## Configure Switches\n",
    "\n",
    "Use ssh to configure the ifaces on the switches. This step requires testing the interfaces to figure out which interface is connected to which network.\n"
   ]
  },
  {
   "cell_type": "markdown",
   "metadata": {},
   "source": [
    "#### Setup P4 Docker\n",
    "\n"
   ]
  },
  {
   "cell_type": "markdown",
   "metadata": {},
   "source": [
    "Below are commands to let sudo work with the global proxy."
   ]
  },
  {
   "cell_type": "code",
   "execution_count": 84,
   "metadata": {
    "tags": []
   },
   "outputs": [
    {
     "name": "stdout",
     "output_type": "stream",
     "text": [
      "None None None\n",
      "IPv4\n"
     ]
    }
   ],
   "source": [
    "try:\n",
    "    s1 = slice.get_node(name=s1_name)\n",
    "    s1_h1_os_iface = s1.get_interface(network_name=net_h1_name)\n",
    "    s1_s2_os_iface = s1.get_interface(network_name=net_s1_s2_name)\n",
    "    s1_s3_os_iface = s1.get_interface(network_name=net_s1_s3_name)\n",
    "    print(s1_h1_os_iface.get_os_interface(), s1_s2_os_iface.get_os_interface(), s1_s3_os_iface.get_os_interface())\n",
    "        \n",
    "    if type(ip_address(s1.get_management_ip())) is IPv4Address:\n",
    "        management_ip_type = \"IPv4\"\n",
    "    else:\n",
    "        management_ip_type = \"IPv6\"\n",
    "    print(management_ip_type)\n",
    "\n",
    "    p4_program = \"custom.p4\"\n",
    "    #p4_program = \"custom_quic.p4\"\n",
    "    s1.upload_file(p4_program, p4_program)\n",
    "\n",
    "    \n",
    "    file_attributes = s1.upload_file('./scripts/router_setup_original.sh','router_setup_original.sh')\n",
    "    file_attributes = s1.upload_file('./scripts/router_setup.sh','router_setup.sh')\n",
    "    \n",
    "    command=f\"chmod +x router_setup_2.sh && sudo sh -c './router_setup.sh {management_ip_type} {s1_h1_os_iface.get_os_interface()} {s1_s2_os_iface.get_os_interface()} {s1_s3_os_iface.get_os_interface()} > /tmp/script.log 2>&1'\"\n",
    "    s1_config_thread = s1.execute_thread(command)\n",
    "    config_threads[s1] = s1_config_thread\n",
    "\n",
    "\n",
    "except Exception as e:\n",
    "    print(f\"Error: {e}\")\n",
    "    traceback.print_exc()"
   ]
  },
  {
   "cell_type": "code",
   "execution_count": 81,
   "metadata": {
    "tags": []
   },
   "outputs": [
    {
     "name": "stdout",
     "output_type": "stream",
     "text": [
      "None None None\n",
      "IPv4\n"
     ]
    }
   ],
   "source": [
    "try:\n",
    "    s2 = slice.get_node(name=s2_name)\n",
    "    s2_h2_os_iface = s2.get_interface(network_name=net_h2_name)\n",
    "    s2_s1_os_iface = s2.get_interface(network_name=net_s1_s2_name)\n",
    "    s2_s3_os_iface = s2.get_interface(network_name=net_s2_s3_name)\n",
    "    print(s2_h2_os_iface.get_os_interface(), s2_s1_os_iface.get_os_interface(), s2_s3_os_iface.get_os_interface())\n",
    "\n",
    "    if type(ip_address(s2.get_management_ip())) is IPv4Address:\n",
    "        management_ip_type = \"IPv4\"\n",
    "    else:\n",
    "        management_ip_type = \"IPv6\"\n",
    "    print(management_ip_type)\n",
    "    \n",
    "    s2.upload_file(p4_program, p4_program)\n",
    "    \n",
    "    file_attributes = s2.upload_file('./scripts/router_setup_original.sh','router_setup_original.sh')\n",
    "    file_attributes = s2.upload_file('./scripts/router_setup_2.sh','router_setup_2.sh')\n",
    "    \n",
    "    command= f\"chmod +x router_setup_2.sh && sudo sh -c './router_setup_2.sh  {management_ip_type} {s2_h2_os_iface.get_os_interface()} {s2_s1_os_iface.get_os_interface()} {s2_s3_os_iface.get_os_interface()}  > /tmp/script.log 2>&1'\"\n",
    "    s2_config_thread = s2.execute_thread(command)\n",
    "    config_threads[s2] = s2_config_thread\n",
    "\n",
    "except Exception as e:\n",
    "    print(f\"Error: {e}\")\n",
    "    traceback.print_exc() "
   ]
  },
  {
   "cell_type": "code",
   "execution_count": 85,
   "metadata": {
    "tags": []
   },
   "outputs": [
    {
     "name": "stdout",
     "output_type": "stream",
     "text": [
      "None None None\n",
      "IPv4\n"
     ]
    }
   ],
   "source": [
    "try:\n",
    "    s3 = slice.get_node(name=s3_name)\n",
    "    s3_h3_os_iface = s3.get_interface(network_name=net_h3_name)\n",
    "    s3_s1_os_iface = s3.get_interface(network_name=net_s1_s3_name)\n",
    "    s3_s2_os_iface = s3.get_interface(network_name=net_s2_s3_name)\n",
    "    print(s3_h3_os_iface.get_os_interface(), s3_s1_os_iface.get_os_interface(), s3_s2_os_iface.get_os_interface())\n",
    "\n",
    "    if type(ip_address(s3.get_management_ip())) is IPv4Address:\n",
    "        management_ip_type = \"IPv4\"\n",
    "    else:\n",
    "        management_ip_type = \"IPv6\"\n",
    "    print(management_ip_type)\n",
    "    \n",
    "    s3.upload_file(p4_program, p4_program)\n",
    "    \n",
    "    file_attributes = s3.upload_file('./scripts/router_setup_original.sh','router_setup_original.sh')\n",
    "    file_attributes = s3.upload_file('./scripts/router_setup_2.sh','router_setup_2.sh')\n",
    "    \n",
    "    command = f\"chmod +x router_setup_2.sh && sudo sh -c './router_setup_2.sh  {management_ip_type} {s3_h3_os_iface.get_os_interface()} {s3_s1_os_iface.get_os_interface()} {s3_s2_os_iface.get_os_interface()} > /tmp/script.log 2>&1'\"\n",
    "    s3_config_thread = s3.execute_thread(command)\n",
    "    config_threads[s3] = s3_config_thread\n",
    "\n",
    "\n",
    "except Exception as e:\n",
    "    print(f\"Error: {e}\")\n",
    "    traceback.print_exc() "
   ]
  },
  {
   "cell_type": "code",
   "execution_count": 76,
   "metadata": {
    "collapsed": true,
    "jupyter": {
     "outputs_hidden": true
    },
    "tags": []
   },
   "outputs": [
    {
     "name": "stdout",
     "output_type": "stream",
     "text": [
      "Config thread node h1 complete\n",
      "stdout: Selecting previously unselected package python3-backcall.\n",
      "(Reading database ... 63577 files and directories currently installed.)\n",
      "Preparing to unpack .../00-python3-backcall_0.1.0-2_all.deb ...\n",
      "Unpacking python3-backcall (0.1.0-2) ...\n",
      "Selecting previously unselected package python3-decorator.\n",
      "Preparing to unpack .../01-python3-decorator_4.4.2-0ubuntu1_all.deb ...\n",
      "Unpacking python3-decorator (4.4.2-0ubuntu1) ...\n",
      "Selecting previously unselected package python3-parso.\n",
      "Preparing to unpack .../02-python3-parso_0.5.2-1ubuntu1_all.deb ...\n",
      "Unpacking python3-parso (0.5.2-1ubuntu1) ...\n",
      "Selecting previously unselected package python3-jedi.\n",
      "Preparing to unpack .../03-python3-jedi_0.15.2-1_all.deb ...\n",
      "Unpacking python3-jedi (0.15.2-1) ...\n",
      "Selecting previously unselected package python3-pickleshare.\n",
      "Preparing to unpack .../04-python3-pickleshare_0.7.5-2_all.deb ...\n",
      "Unpacking python3-pickleshare (0.7.5-2) ...\n",
      "Selecting previously unselected package python3-wcwidth.\n",
      "Preparing to unpack .../05-python3-wcwidth_0.1.8+dfsg1-3_all.deb ...\n",
      "Unpacking python3-wcwidth (0.1.8+dfsg1-3) ...\n",
      "Selecting previously unselected package python3-prompt-toolkit.\n",
      "Preparing to unpack .../06-python3-prompt-toolkit_2.0.10-2_all.deb ...\n",
      "Unpacking python3-prompt-toolkit (2.0.10-2) ...\n",
      "Selecting previously unselected package python3-pygments.\n",
      "Preparing to unpack .../07-python3-pygments_2.3.1+dfsg-1ubuntu2.2_all.deb ...\n",
      "Unpacking python3-pygments (2.3.1+dfsg-1ubuntu2.2) ...\n",
      "Selecting previously unselected package python3-ipython-genutils.\n",
      "Preparing to unpack .../08-python3-ipython-genutils_0.2.0-1ubuntu1_all.deb ...\n",
      "Unpacking python3-ipython-genutils (0.2.0-1ubuntu1) ...\n",
      "Selecting previously unselected package python3-traitlets.\n",
      "Preparing to unpack .../09-python3-traitlets_4.3.3-3_all.deb ...\n",
      "Unpacking python3-traitlets (4.3.3-3) ...\n",
      "Selecting previously unselected package python3-ipython.\n",
      "Preparing to unpack .../10-python3-ipython_7.13.0-1_all.deb ...\n",
      "Unpacking python3-ipython (7.13.0-1) ...\n",
      "Selecting previously unselected package ipython3.\n",
      "Preparing to unpack .../11-ipython3_7.13.0-1_all.deb ...\n",
      "Unpacking ipython3 (7.13.0-1) ...\n",
      "Selecting previously unselected package python3-scapy.\n",
      "Preparing to unpack .../12-python3-scapy_2.4.3-4_all.deb ...\n",
      "Unpacking python3-scapy (2.4.3-4) ...\n",
      "Setting up python3-backcall (0.1.0-2) ...\n",
      "Setting up python3-parso (0.5.2-1ubuntu1) ...\n",
      "Setting up python3-ipython-genutils (0.2.0-1ubuntu1) ...\n",
      "Setting up python3-decorator (4.4.2-0ubuntu1) ...\n",
      "Setting up python3-pygments (2.3.1+dfsg-1ubuntu2.2) ...\n",
      "Setting up python3-wcwidth (0.1.8+dfsg1-3) ...\n",
      "Setting up python3-pickleshare (0.7.5-2) ...\n",
      "Setting up python3-scapy (2.4.3-4) ...\n",
      "Setting up python3-traitlets (4.3.3-3) ...\n",
      "Setting up python3-prompt-toolkit (2.0.10-2) ...\n",
      "Setting up python3-jedi (0.15.2-1) ...\n",
      "Setting up python3-ipython (7.13.0-1) ...\n",
      "Setting up ipython3 (7.13.0-1) ...\n",
      "Processing triggers for man-db (2.9.1-1) ...\n",
      "\n",
      "stderr: debconf: unable to initialize frontend: Dialog\n",
      "debconf: (Dialog frontend will not work on a dumb terminal, an emacs shell buffer, or without a controlling terminal.)\n",
      "debconf: falling back to frontend: Readline\n",
      "debconf: unable to initialize frontend: Readline\n",
      "debconf: (This frontend requires a controlling tty.)\n",
      "debconf: falling back to frontend: Teletype\n",
      "dpkg-preconfigure: unable to re-open stdin: \n",
      "Cloning into 'tutorials'...\n",
      "\n",
      "Config thread node h2 complete\n",
      "stdout: Selecting previously unselected package python3-backcall.\n",
      "(Reading database ... 63577 files and directories currently installed.)\n",
      "Preparing to unpack .../00-python3-backcall_0.1.0-2_all.deb ...\n",
      "Unpacking python3-backcall (0.1.0-2) ...\n",
      "Selecting previously unselected package python3-decorator.\n",
      "Preparing to unpack .../01-python3-decorator_4.4.2-0ubuntu1_all.deb ...\n",
      "Unpacking python3-decorator (4.4.2-0ubuntu1) ...\n",
      "Selecting previously unselected package python3-parso.\n",
      "Preparing to unpack .../02-python3-parso_0.5.2-1ubuntu1_all.deb ...\n",
      "Unpacking python3-parso (0.5.2-1ubuntu1) ...\n",
      "Selecting previously unselected package python3-jedi.\n",
      "Preparing to unpack .../03-python3-jedi_0.15.2-1_all.deb ...\n",
      "Unpacking python3-jedi (0.15.2-1) ...\n",
      "Selecting previously unselected package python3-pickleshare.\n",
      "Preparing to unpack .../04-python3-pickleshare_0.7.5-2_all.deb ...\n",
      "Unpacking python3-pickleshare (0.7.5-2) ...\n",
      "Selecting previously unselected package python3-wcwidth.\n",
      "Preparing to unpack .../05-python3-wcwidth_0.1.8+dfsg1-3_all.deb ...\n",
      "Unpacking python3-wcwidth (0.1.8+dfsg1-3) ...\n",
      "Selecting previously unselected package python3-prompt-toolkit.\n",
      "Preparing to unpack .../06-python3-prompt-toolkit_2.0.10-2_all.deb ...\n",
      "Unpacking python3-prompt-toolkit (2.0.10-2) ...\n",
      "Selecting previously unselected package python3-pygments.\n",
      "Preparing to unpack .../07-python3-pygments_2.3.1+dfsg-1ubuntu2.2_all.deb ...\n",
      "Unpacking python3-pygments (2.3.1+dfsg-1ubuntu2.2) ...\n",
      "Selecting previously unselected package python3-ipython-genutils.\n",
      "Preparing to unpack .../08-python3-ipython-genutils_0.2.0-1ubuntu1_all.deb ...\n",
      "Unpacking python3-ipython-genutils (0.2.0-1ubuntu1) ...\n",
      "Selecting previously unselected package python3-traitlets.\n",
      "Preparing to unpack .../09-python3-traitlets_4.3.3-3_all.deb ...\n",
      "Unpacking python3-traitlets (4.3.3-3) ...\n",
      "Selecting previously unselected package python3-ipython.\n",
      "Preparing to unpack .../10-python3-ipython_7.13.0-1_all.deb ...\n",
      "Unpacking python3-ipython (7.13.0-1) ...\n",
      "Selecting previously unselected package ipython3.\n",
      "Preparing to unpack .../11-ipython3_7.13.0-1_all.deb ...\n",
      "Unpacking ipython3 (7.13.0-1) ...\n",
      "Selecting previously unselected package python3-scapy.\n",
      "Preparing to unpack .../12-python3-scapy_2.4.3-4_all.deb ...\n",
      "Unpacking python3-scapy (2.4.3-4) ...\n",
      "Setting up python3-backcall (0.1.0-2) ...\n",
      "Setting up python3-parso (0.5.2-1ubuntu1) ...\n",
      "Setting up python3-ipython-genutils (0.2.0-1ubuntu1) ...\n",
      "Setting up python3-decorator (4.4.2-0ubuntu1) ...\n",
      "Setting up python3-pygments (2.3.1+dfsg-1ubuntu2.2) ...\n",
      "Setting up python3-wcwidth (0.1.8+dfsg1-3) ...\n",
      "Setting up python3-pickleshare (0.7.5-2) ...\n",
      "Setting up python3-scapy (2.4.3-4) ...\n",
      "Setting up python3-traitlets (4.3.3-3) ...\n",
      "Setting up python3-prompt-toolkit (2.0.10-2) ...\n",
      "Setting up python3-jedi (0.15.2-1) ...\n",
      "Setting up python3-ipython (7.13.0-1) ...\n",
      "Setting up ipython3 (7.13.0-1) ...\n",
      "Processing triggers for man-db (2.9.1-1) ...\n",
      "\n",
      "stderr: debconf: unable to initialize frontend: Dialog\n",
      "debconf: (Dialog frontend will not work on a dumb terminal, an emacs shell buffer, or without a controlling terminal.)\n",
      "debconf: falling back to frontend: Readline\n",
      "debconf: unable to initialize frontend: Readline\n",
      "debconf: (This frontend requires a controlling tty.)\n",
      "debconf: falling back to frontend: Teletype\n",
      "dpkg-preconfigure: unable to re-open stdin: \n",
      "Cloning into 'tutorials'...\n",
      "\n",
      "Config thread node h3 complete\n",
      "stdout: Selecting previously unselected package python3-backcall.\n",
      "(Reading database ... 63577 files and directories currently installed.)\n",
      "Preparing to unpack .../00-python3-backcall_0.1.0-2_all.deb ...\n",
      "Unpacking python3-backcall (0.1.0-2) ...\n",
      "Selecting previously unselected package python3-decorator.\n",
      "Preparing to unpack .../01-python3-decorator_4.4.2-0ubuntu1_all.deb ...\n",
      "Unpacking python3-decorator (4.4.2-0ubuntu1) ...\n",
      "Selecting previously unselected package python3-parso.\n",
      "Preparing to unpack .../02-python3-parso_0.5.2-1ubuntu1_all.deb ...\n",
      "Unpacking python3-parso (0.5.2-1ubuntu1) ...\n",
      "Selecting previously unselected package python3-jedi.\n",
      "Preparing to unpack .../03-python3-jedi_0.15.2-1_all.deb ...\n",
      "Unpacking python3-jedi (0.15.2-1) ...\n",
      "Selecting previously unselected package python3-pickleshare.\n",
      "Preparing to unpack .../04-python3-pickleshare_0.7.5-2_all.deb ...\n",
      "Unpacking python3-pickleshare (0.7.5-2) ...\n",
      "Selecting previously unselected package python3-wcwidth.\n",
      "Preparing to unpack .../05-python3-wcwidth_0.1.8+dfsg1-3_all.deb ...\n",
      "Unpacking python3-wcwidth (0.1.8+dfsg1-3) ...\n",
      "Selecting previously unselected package python3-prompt-toolkit.\n",
      "Preparing to unpack .../06-python3-prompt-toolkit_2.0.10-2_all.deb ...\n",
      "Unpacking python3-prompt-toolkit (2.0.10-2) ...\n",
      "Selecting previously unselected package python3-pygments.\n",
      "Preparing to unpack .../07-python3-pygments_2.3.1+dfsg-1ubuntu2.2_all.deb ...\n",
      "Unpacking python3-pygments (2.3.1+dfsg-1ubuntu2.2) ...\n",
      "Selecting previously unselected package python3-ipython-genutils.\n",
      "Preparing to unpack .../08-python3-ipython-genutils_0.2.0-1ubuntu1_all.deb ...\n",
      "Unpacking python3-ipython-genutils (0.2.0-1ubuntu1) ...\n",
      "Selecting previously unselected package python3-traitlets.\n",
      "Preparing to unpack .../09-python3-traitlets_4.3.3-3_all.deb ...\n",
      "Unpacking python3-traitlets (4.3.3-3) ...\n",
      "Selecting previously unselected package python3-ipython.\n",
      "Preparing to unpack .../10-python3-ipython_7.13.0-1_all.deb ...\n",
      "Unpacking python3-ipython (7.13.0-1) ...\n",
      "Selecting previously unselected package ipython3.\n",
      "Preparing to unpack .../11-ipython3_7.13.0-1_all.deb ...\n",
      "Unpacking ipython3 (7.13.0-1) ...\n",
      "Selecting previously unselected package python3-scapy.\n",
      "Preparing to unpack .../12-python3-scapy_2.4.3-4_all.deb ...\n",
      "Unpacking python3-scapy (2.4.3-4) ...\n",
      "Setting up python3-backcall (0.1.0-2) ...\n",
      "Setting up python3-parso (0.5.2-1ubuntu1) ...\n",
      "Setting up python3-ipython-genutils (0.2.0-1ubuntu1) ...\n",
      "Setting up python3-decorator (4.4.2-0ubuntu1) ...\n",
      "Setting up python3-pygments (2.3.1+dfsg-1ubuntu2.2) ...\n",
      "Setting up python3-wcwidth (0.1.8+dfsg1-3) ...\n",
      "Setting up python3-pickleshare (0.7.5-2) ...\n",
      "Setting up python3-scapy (2.4.3-4) ...\n",
      "Setting up python3-traitlets (4.3.3-3) ...\n",
      "Setting up python3-prompt-toolkit (2.0.10-2) ...\n",
      "Setting up python3-jedi (0.15.2-1) ...\n",
      "Setting up python3-ipython (7.13.0-1) ...\n",
      "Setting up ipython3 (7.13.0-1) ...\n",
      "Processing triggers for man-db (2.9.1-1) ...\n",
      "\n",
      "stderr: debconf: unable to initialize frontend: Dialog\n",
      "debconf: (Dialog frontend will not work on a dumb terminal, an emacs shell buffer, or without a controlling terminal.)\n",
      "debconf: falling back to frontend: Readline\n",
      "debconf: unable to initialize frontend: Readline\n",
      "debconf: (This frontend requires a controlling tty.)\n",
      "debconf: falling back to frontend: Teletype\n",
      "dpkg-preconfigure: unable to re-open stdin: \n",
      "Cloning into 'tutorials'...\n",
      "\n",
      "Config thread node s1 complete\n",
      "stdout: \n",
      "stderr: \n",
      "Config thread node s2 complete\n",
      "stdout: \n",
      "stderr: \n",
      "Config thread node s3 complete\n",
      "stdout: \n",
      "stderr: \n",
      "Config thread node s1 complete\n",
      "stdout: \n",
      "stderr: \n",
      "Config thread node s2 complete\n",
      "stdout: \n",
      "stderr: \n",
      "Config thread node s3 complete\n",
      "stdout: \n",
      "stderr: \n"
     ]
    }
   ],
   "source": [
    "try:\n",
    "    for node, thread in config_threads.items():\n",
    "        stdout, stderr = thread.result()\n",
    "        print(f\"Config thread node {node.get_name()} complete\")\n",
    "        print(f\"stdout: {stdout}\")\n",
    "        print(f\"stderr: {stderr}\")\n",
    "except Exception as e:\n",
    "    print(f\"Error: {e}\")\n",
    "    traceback.print_exc() \n"
   ]
  },
  {
   "cell_type": "markdown",
   "metadata": {},
   "source": [
    "## Generate Commands for P4 Switches\n",
    "\n",
    "The current implemenation of this project does not implement ARP self-learning, which means we need to manually configure our switches with the MAC address of the next hop. "
   ]
  },
  {
   "cell_type": "code",
   "execution_count": 78,
   "metadata": {},
   "outputs": [],
   "source": [
    "config_name = \"both_paths_quic\""
   ]
  },
  {
   "cell_type": "code",
   "execution_count": 87,
   "metadata": {},
   "outputs": [
    {
     "name": "stdout",
     "output_type": "stream",
     "text": [
      "s1\n",
      "table_add ipv4_lpm set_nhop 10.0.1.0/24 => 02:2a:1f:68:a6:c7 1a:d4:14:82:e9:10 1 02:2a:1f:68:a6:c7 1a:d4:14:82:e9:10 1\n",
      "\n",
      "table_add ipv4_lpm set_nhop 10.0.2.0/24 => 02:7f:22:d0:3a:53 06:09:bc:72:f3:ef 2 02:ee:00:c6:75:96 1a:3e:34:21:4f:bb 3\n",
      "\n",
      "s2\n",
      "table_add ipv4_lpm set_nhop 10.0.1.0/24 => 06:09:bc:72:f3:ef 02:7f:22:d0:3a:53 2 06:a8:0f:d7:32:fb 1a:19:74:69:7e:2f 3\n",
      "\n",
      "table_add ipv4_lpm set_nhop 10.0.2.0/24 => 0a:a6:17:c6:65:d0 1e:51:7f:17:d6:38 1 0a:a6:17:c6:65:d0 1e:51:7f:17:d6:38 1\n",
      "\n",
      "s3\n",
      "table_add ipv4_lpm set_nhop 10.0.1.0/24 => 1a:3e:34:21:4f:bb 02:ee:00:c6:75:96 2 1a:3e:34:21:4f:bb 02:ee:00:c6:75:96 2\n",
      "\n",
      "table_add ipv4_lpm set_nhop 10.0.2.0/24 => 1a:19:74:69:7e:2f 06:a8:0f:d7:32:fb 3 1a:19:74:69:7e:2f 06:a8:0f:d7:32:fb 3\n",
      "\n"
     ]
    }
   ],
   "source": [
    "base_command = \"table_add ipv4_lpm set_nhop\"\n",
    "\n",
    "s3_config = [(\"10.0.1.0/24\", (s1_s3_os_iface.get_mac(), \"2\", s1_s3_os_iface.get_mac(), \"2\")),\n",
    "            (\"10.0.2.0/24\", (s2_s3_os_iface.get_mac(), \"3\", s2_s3_os_iface.get_mac(), \"3\"))]\n",
    "\n",
    "both_paths = {\n",
    "    s1_name: [(\"10.0.1.0/24\", (h1_os_iface.get_mac(), \"1\", h1_os_iface.get_mac(), \"1\")),\n",
    "             (\"10.0.2.0/24\", (s2_s1_os_iface.get_mac(), \"2\", s3_s1_os_iface.get_mac(), \"3\"))],\n",
    "    s2_name: [(\"10.0.1.0/24\", (s1_s2_os_iface.get_mac(), \"2\", s3_s2_os_iface.get_mac(), \"3\")),\n",
    "             (\"10.0.2.0/24\", (h2_os_iface.get_mac(), \"1\", h2_os_iface.get_mac(), \"1\"))],\n",
    "    s3_name: s3_config\n",
    "}\n",
    "\n",
    "fast_path = {\n",
    "    s1_name: [(\"10.0.1.0/24\", (h1_os_iface.get_mac(), \"1\", h1_os_iface.get_mac(), \"1\")),\n",
    "             (\"10.0.2.0/24\", (s2_s1_os_iface.get_mac(), \"2\", s2_s1_os_iface.get_mac(), \"2\"))],\n",
    "    s2_name: [(\"10.0.1.0/24\", (s1_s2_os_iface.get_mac(), \"2\", s1_s2_os_iface.get_mac(), \"2\")),\n",
    "             (\"10.0.2.0/24\", (h2_os_iface.get_mac(), \"1\", h2_os_iface.get_mac(), \"1\"))],\n",
    "    s3_name: []\n",
    "}\n",
    "\n",
    "slow_path = {\n",
    "    s1_name: [(\"10.0.1.0/24\", (h1_os_iface.get_mac(), \"1\", h1_os_iface.get_mac(), \"1\")),\n",
    "             (\"10.0.2.0/24\", (s3_s1_os_iface.get_mac(), \"3\", s3_s1_os_iface.get_mac(), \"3\"))],\n",
    "    s2_name: [(\"10.0.1.0/24\", (s3_s2_os_iface.get_mac(), \"3\", s3_s2_os_iface.get_mac(), \"3\")),\n",
    "             (\"10.0.2.0/24\", (h2_os_iface.get_mac(), \"1\", h2_os_iface.get_mac(), \"1\"))],\n",
    "    s3_name: s3_config\n",
    "}\n",
    "\n",
    "both_paths_quic = {\n",
    "    s1_name: [(\"10.0.1.0/24\", (s1_h1_os_iface.get_mac(), h1_os_iface.get_mac(), \"1\", s1_h1_os_iface.get_mac(), h1_os_iface.get_mac(), \"1\")),\n",
    "             (\"10.0.2.0/24\", (s1_s2_os_iface.get_mac(), s2_s1_os_iface.get_mac(), \"2\", s1_s3_os_iface.get_mac(), s3_s1_os_iface.get_mac(), \"3\"))],\n",
    "    s2_name: [(\"10.0.1.0/24\", (s2_s1_os_iface.get_mac(), s1_s2_os_iface.get_mac(), \"2\", s2_s3_os_iface.get_mac(), s3_s2_os_iface.get_mac(), \"3\")),\n",
    "             (\"10.0.2.0/24\", (s2_h2_os_iface.get_mac(), h2_os_iface.get_mac(), \"1\", s2_h2_os_iface.get_mac(), h2_os_iface.get_mac(), \"1\"))],\n",
    "    s3_name: [(\"10.0.1.0/24\", (s3_s1_os_iface.get_mac(), s1_s3_os_iface.get_mac(), \"2\", s3_s1_os_iface.get_mac(), s1_s3_os_iface.get_mac(), \"2\")),\n",
    "            (\"10.0.2.0/24\", (s3_s2_os_iface.get_mac(), s2_s3_os_iface.get_mac(), \"3\", s3_s2_os_iface.get_mac(), s2_s3_os_iface.get_mac(), \"3\"))]\n",
    "}\n",
    "\n",
    "all_configs = {\n",
    "    \"both_paths\": both_paths,\n",
    "    \"fast_path\": fast_path,\n",
    "    \"slow_path\": slow_path,\n",
    "    \"both_paths_quic\": both_paths_quic\n",
    "}\n",
    "\n",
    "current_config = all_configs[config_name]\n",
    "\n",
    "for switch_name in [s1_name, s2_name, s3_name]:\n",
    "    config = current_config[switch_name]\n",
    "    print(switch_name)\n",
    "    with open(f'commands/{config_name}/{switch_name}_commands.txt', 'w') as f:\n",
    "        for match, action in config:\n",
    "            command = f\"{base_command} {match} => {' '.join(action)}\\n\".lower()\n",
    "            print(command)\n",
    "            f.write(command)"
   ]
  },
  {
   "cell_type": "markdown",
   "metadata": {},
   "source": [
    "### Confgure P4 Switch Tables\n",
    "\n",
    "Edit sX_commands.txt to change the values"
   ]
  },
  {
   "cell_type": "code",
   "execution_count": 88,
   "metadata": {
    "tags": []
   },
   "outputs": [
    {
     "name": "stdout",
     "output_type": "stream",
     "text": [
      "Swtitch Name        : s1\n",
      "Management IP    : 129.114.110.69\n",
      "s1_commands.txt\n",
      "file_attributes: -rw-rw-r--   1 1000     1000          238 07 Dec 06:16 ?\n",
      "stdout: ('Obtaining JSON from switch...\\nDone\\nControl utility for runtime P4 table manipulation\\nRuntimeCmd: Adding entry to lpm match table ipv4_lpm\\nmatch key:           LPM-0a:00:01:00/24\\naction:              set_nhop\\nruntime data:        02:2a:1f:68:a6:c7\\t1a:d4:14:82:e9:10\\t00:01\\t02:2a:1f:68:a6:c7\\t1a:d4:14:82:e9:10\\t00:01\\nEntry has been added with handle 0\\nRuntimeCmd: Adding entry to lpm match table ipv4_lpm\\nmatch key:           LPM-0a:00:02:00/24\\naction:              set_nhop\\nruntime data:        02:7f:22:d0:3a:53\\t06:09:bc:72:f3:ef\\t00:02\\t02:ee:00:c6:75:96\\t1a:3e:34:21:4f:bb\\t00:03\\nEntry has been added with handle 1\\nRuntimeCmd: \\n', '')\n",
      "Swtitch Name        : s2\n",
      "Management IP    : 129.114.110.91\n",
      "s2_commands.txt\n",
      "file_attributes: -rw-rw-r--   1 1000     1000          238 07 Dec 06:16 ?\n",
      "stdout: ('Obtaining JSON from switch...\\nDone\\nControl utility for runtime P4 table manipulation\\nRuntimeCmd: Adding entry to lpm match table ipv4_lpm\\nmatch key:           LPM-0a:00:01:00/24\\naction:              set_nhop\\nruntime data:        06:09:bc:72:f3:ef\\t02:7f:22:d0:3a:53\\t00:02\\t06:a8:0f:d7:32:fb\\t1a:19:74:69:7e:2f\\t00:03\\nEntry has been added with handle 0\\nRuntimeCmd: Adding entry to lpm match table ipv4_lpm\\nmatch key:           LPM-0a:00:02:00/24\\naction:              set_nhop\\nruntime data:        0a:a6:17:c6:65:d0\\t1e:51:7f:17:d6:38\\t00:01\\t0a:a6:17:c6:65:d0\\t1e:51:7f:17:d6:38\\t00:01\\nEntry has been added with handle 1\\nRuntimeCmd: \\n', '')\n",
      "Swtitch Name        : s3\n",
      "Management IP    : 129.114.110.120\n",
      "s3_commands.txt\n",
      "file_attributes: -rw-rw-r--   1 1000     1000          238 07 Dec 06:16 ?\n",
      "stdout: ('Obtaining JSON from switch...\\nDone\\nControl utility for runtime P4 table manipulation\\nRuntimeCmd: Adding entry to lpm match table ipv4_lpm\\nmatch key:           LPM-0a:00:01:00/24\\naction:              set_nhop\\nruntime data:        1a:3e:34:21:4f:bb\\t02:ee:00:c6:75:96\\t00:02\\t1a:3e:34:21:4f:bb\\t02:ee:00:c6:75:96\\t00:02\\nEntry has been added with handle 0\\nRuntimeCmd: Adding entry to lpm match table ipv4_lpm\\nmatch key:           LPM-0a:00:02:00/24\\naction:              set_nhop\\nruntime data:        1a:19:74:69:7e:2f\\t06:a8:0f:d7:32:fb\\t00:03\\t1a:19:74:69:7e:2f\\t06:a8:0f:d7:32:fb\\t00:03\\nEntry has been added with handle 1\\nRuntimeCmd: \\n', '')\n"
     ]
    }
   ],
   "source": [
    "for switch_name in [s1_name, s2_name, s3_name]:\n",
    "    switch_node = slice.get_node(name=switch_name)\n",
    "    management_ip_switch = str(switch_node.get_management_ip())\n",
    "    print(\"Swtitch Name        : {}\".format(switch_node.get_name()))\n",
    "    print(\"Management IP    : {}\".format(management_ip_switch))\n",
    "    \n",
    "    #Configure P4 Tables\n",
    "    cmd_file=f'{switch_name}_commands.txt'\n",
    "    \n",
    "    print(cmd_file)\n",
    "    file_attributes = switch_node.upload_file(f'commands/{config_name}/{cmd_file}',cmd_file)\n",
    "    print(\"file_attributes: {}\".format(file_attributes))\n",
    "\n",
    "    stdout = switch_node.execute(f\"sudo sh -c 'cat {cmd_file} | docker exec -i fabric_p4 simple_switch_CLI'\")\n",
    "    print(\"stdout: {}\".format(stdout))"
   ]
  },
  {
   "cell_type": "markdown",
   "metadata": {},
   "source": [
    "## Set up routing rules for hosts\n",
    "\n",
    "The above commands set up our P4 routers, but we still need to inform `h1` and `h2` to use these routes."
   ]
  },
  {
   "cell_type": "code",
   "execution_count": 58,
   "metadata": {},
   "outputs": [
    {
     "name": "stdout",
     "output_type": "stream",
     "text": [
      "ens7\n"
     ]
    },
    {
     "data": {
      "text/plain": [
       "('', '')"
      ]
     },
     "execution_count": 58,
     "metadata": {},
     "output_type": "execute_result"
    }
   ],
   "source": [
    "print(h1_os_iface.get_os_interface())\n",
    "h1.execute(f\"sudo ip route add 10.0.2.0/24 dev {h1_os_iface.get_os_interface()}\")"
   ]
  },
  {
   "cell_type": "code",
   "execution_count": 59,
   "metadata": {},
   "outputs": [
    {
     "name": "stdout",
     "output_type": "stream",
     "text": [
      "ens7\n"
     ]
    },
    {
     "data": {
      "text/plain": [
       "('', '')"
      ]
     },
     "execution_count": 59,
     "metadata": {},
     "output_type": "execute_result"
    }
   ],
   "source": [
    "print(h2_os_iface.get_os_interface())\n",
    "h2.execute(f\"sudo ip route add 10.0.1.0/24 dev {h2_os_iface.get_os_interface()}\")"
   ]
  },
  {
   "cell_type": "markdown",
   "metadata": {},
   "source": [
    "## Set up static ARP cache for hosts\n",
    "\n",
    "With my current P4 program implementation, self-learning ARP is not currently functional. In order to communicate between the hosts, we need to statically configure the ARP tables on `h1` and `h2`."
   ]
  },
  {
   "cell_type": "code",
   "execution_count": 60,
   "metadata": {},
   "outputs": [
    {
     "name": "stdout",
     "output_type": "stream",
     "text": [
      "02:2A:1F:68:A6:C7\n"
     ]
    },
    {
     "data": {
      "text/plain": [
       "('', '')"
      ]
     },
     "execution_count": 60,
     "metadata": {},
     "output_type": "execute_result"
    }
   ],
   "source": [
    "print(s1_h1_os_iface.get_mac())\n",
    "h1.execute(\"sudo apt install net-tools\")\n",
    "h1.execute(f\"sudo arp -s 10.0.2.2 {s1_h1_os_iface.get_mac()}\")"
   ]
  },
  {
   "cell_type": "code",
   "execution_count": 61,
   "metadata": {},
   "outputs": [
    {
     "name": "stdout",
     "output_type": "stream",
     "text": [
      "0A:A6:17:C6:65:D0\n"
     ]
    },
    {
     "data": {
      "text/plain": [
       "('', '')"
      ]
     },
     "execution_count": 61,
     "metadata": {},
     "output_type": "execute_result"
    }
   ],
   "source": [
    "print(s2_h2_os_iface.get_mac())\n",
    "h2.execute(\"sudo apt install net-tools\")\n",
    "h2.execute(f\"sudo arp -s 10.0.1.1 {s2_h2_os_iface.get_mac()}\")"
   ]
  },
  {
   "cell_type": "markdown",
   "metadata": {},
   "source": [
    "## Set up Video Streaming Server\n",
    "\n",
    "Next, we install the Apache HTTP/2 video streaming server on `h2`. We also download the \"Big Buck Bunny\" dataset, and extract the 4-second segments into the folder for apache to serve."
   ]
  },
  {
   "cell_type": "code",
   "execution_count": 29,
   "metadata": {},
   "outputs": [],
   "source": [
    "h1 = slice.get_node(name=h1_name)\n",
    "h2 = slice.get_node(name=h2_name)"
   ]
  },
  {
   "cell_type": "code",
   "execution_count": 30,
   "metadata": {
    "collapsed": true,
    "jupyter": {
     "outputs_hidden": true
    },
    "tags": []
   },
   "outputs": [
    {
     "ename": "KeyboardInterrupt",
     "evalue": "",
     "output_type": "error",
     "traceback": [
      "\u001b[0;31m---------------------------------------------------------------------------\u001b[0m",
      "\u001b[0;31mKeyboardInterrupt\u001b[0m                         Traceback (most recent call last)",
      "\u001b[0;32m/tmp/ipykernel_248/3045572808.py\u001b[0m in \u001b[0;36m<module>\u001b[0;34m\u001b[0m\n\u001b[1;32m      2\u001b[0m \u001b[0;34m\u001b[0m\u001b[0m\n\u001b[1;32m      3\u001b[0m \u001b[0mh2\u001b[0m\u001b[0;34m.\u001b[0m\u001b[0mexecute\u001b[0m\u001b[0;34m(\u001b[0m\u001b[0;34m\"sudo apt install -y apache2\"\u001b[0m\u001b[0;34m)\u001b[0m\u001b[0;34m\u001b[0m\u001b[0;34m\u001b[0m\u001b[0m\n\u001b[0;32m----> 4\u001b[0;31m \u001b[0mh2\u001b[0m\u001b[0;34m.\u001b[0m\u001b[0mexecute\u001b[0m\u001b[0;34m(\u001b[0m\u001b[0;34mf\"wget {big_buck_bunny_url} -O media.tgz -o wget.log\"\u001b[0m\u001b[0;34m)\u001b[0m\u001b[0;34m\u001b[0m\u001b[0;34m\u001b[0m\u001b[0m\n\u001b[0m\u001b[1;32m      5\u001b[0m \u001b[0mh2\u001b[0m\u001b[0;34m.\u001b[0m\u001b[0mexecute\u001b[0m\u001b[0;34m(\u001b[0m\u001b[0;34m\"sudo tar -v -xzf media.tgz -C /var/www/html/\"\u001b[0m\u001b[0;34m)\u001b[0m\u001b[0;34m\u001b[0m\u001b[0;34m\u001b[0m\u001b[0m\n\u001b[1;32m      6\u001b[0m \u001b[0mh2\u001b[0m\u001b[0;34m.\u001b[0m\u001b[0mexecute\u001b[0m\u001b[0;34m(\u001b[0m\u001b[0;34m\"ls /var/www/html/media/BigBuckBunny/4sec\"\u001b[0m\u001b[0;34m)\u001b[0m\u001b[0;34m\u001b[0m\u001b[0;34m\u001b[0m\u001b[0m\n",
      "\u001b[0;32m/opt/conda/lib/python3.9/site-packages/fabrictestbed_extensions/fablib/node.py\u001b[0m in \u001b[0;36mexecute\u001b[0;34m(self, command, retry, retry_interval, username, private_key_file, private_key_passphrase)\u001b[0m\n\u001b[1;32m    694\u001b[0m \u001b[0;34m\u001b[0m\u001b[0m\n\u001b[1;32m    695\u001b[0m                 \u001b[0mstdin\u001b[0m\u001b[0;34m,\u001b[0m \u001b[0mstdout\u001b[0m\u001b[0;34m,\u001b[0m \u001b[0mstderr\u001b[0m \u001b[0;34m=\u001b[0m \u001b[0mclient\u001b[0m\u001b[0;34m.\u001b[0m\u001b[0mexec_command\u001b[0m\u001b[0;34m(\u001b[0m\u001b[0mcommand\u001b[0m\u001b[0;34m)\u001b[0m\u001b[0;34m\u001b[0m\u001b[0;34m\u001b[0m\u001b[0m\n\u001b[0;32m--> 696\u001b[0;31m                 \u001b[0mrtn_stdout\u001b[0m \u001b[0;34m=\u001b[0m \u001b[0mstr\u001b[0m\u001b[0;34m(\u001b[0m\u001b[0mstdout\u001b[0m\u001b[0;34m.\u001b[0m\u001b[0mread\u001b[0m\u001b[0;34m(\u001b[0m\u001b[0;34m)\u001b[0m\u001b[0;34m,\u001b[0m\u001b[0;34m'utf-8'\u001b[0m\u001b[0;34m)\u001b[0m\u001b[0;34m.\u001b[0m\u001b[0mreplace\u001b[0m\u001b[0;34m(\u001b[0m\u001b[0;34m'\\\\n'\u001b[0m\u001b[0;34m,\u001b[0m\u001b[0;34m'\\n'\u001b[0m\u001b[0;34m)\u001b[0m\u001b[0;34m\u001b[0m\u001b[0;34m\u001b[0m\u001b[0m\n\u001b[0m\u001b[1;32m    697\u001b[0m                 \u001b[0mrtn_stderr\u001b[0m \u001b[0;34m=\u001b[0m \u001b[0mstr\u001b[0m\u001b[0;34m(\u001b[0m\u001b[0mstderr\u001b[0m\u001b[0;34m.\u001b[0m\u001b[0mread\u001b[0m\u001b[0;34m(\u001b[0m\u001b[0;34m)\u001b[0m\u001b[0;34m,\u001b[0m\u001b[0;34m'utf-8'\u001b[0m\u001b[0;34m)\u001b[0m\u001b[0;34m.\u001b[0m\u001b[0mreplace\u001b[0m\u001b[0;34m(\u001b[0m\u001b[0;34m'\\\\n'\u001b[0m\u001b[0;34m,\u001b[0m\u001b[0;34m'\\n'\u001b[0m\u001b[0;34m)\u001b[0m\u001b[0;34m\u001b[0m\u001b[0;34m\u001b[0m\u001b[0m\n\u001b[1;32m    698\u001b[0m \u001b[0;34m\u001b[0m\u001b[0m\n",
      "\u001b[0;32m/opt/conda/lib/python3.9/site-packages/paramiko/file.py\u001b[0m in \u001b[0;36mread\u001b[0;34m(self, size)\u001b[0m\n\u001b[1;32m    198\u001b[0m             \u001b[0;32mwhile\u001b[0m \u001b[0;32mTrue\u001b[0m\u001b[0;34m:\u001b[0m\u001b[0;34m\u001b[0m\u001b[0;34m\u001b[0m\u001b[0m\n\u001b[1;32m    199\u001b[0m                 \u001b[0;32mtry\u001b[0m\u001b[0;34m:\u001b[0m\u001b[0;34m\u001b[0m\u001b[0;34m\u001b[0m\u001b[0m\n\u001b[0;32m--> 200\u001b[0;31m                     \u001b[0mnew_data\u001b[0m \u001b[0;34m=\u001b[0m \u001b[0mself\u001b[0m\u001b[0;34m.\u001b[0m\u001b[0m_read\u001b[0m\u001b[0;34m(\u001b[0m\u001b[0mself\u001b[0m\u001b[0;34m.\u001b[0m\u001b[0m_DEFAULT_BUFSIZE\u001b[0m\u001b[0;34m)\u001b[0m\u001b[0;34m\u001b[0m\u001b[0;34m\u001b[0m\u001b[0m\n\u001b[0m\u001b[1;32m    201\u001b[0m                 \u001b[0;32mexcept\u001b[0m \u001b[0mEOFError\u001b[0m\u001b[0;34m:\u001b[0m\u001b[0;34m\u001b[0m\u001b[0;34m\u001b[0m\u001b[0m\n\u001b[1;32m    202\u001b[0m                     \u001b[0mnew_data\u001b[0m \u001b[0;34m=\u001b[0m \u001b[0;32mNone\u001b[0m\u001b[0;34m\u001b[0m\u001b[0;34m\u001b[0m\u001b[0m\n",
      "\u001b[0;32m/opt/conda/lib/python3.9/site-packages/paramiko/channel.py\u001b[0m in \u001b[0;36m_read\u001b[0;34m(self, size)\u001b[0m\n\u001b[1;32m   1359\u001b[0m \u001b[0;34m\u001b[0m\u001b[0m\n\u001b[1;32m   1360\u001b[0m     \u001b[0;32mdef\u001b[0m \u001b[0m_read\u001b[0m\u001b[0;34m(\u001b[0m\u001b[0mself\u001b[0m\u001b[0;34m,\u001b[0m \u001b[0msize\u001b[0m\u001b[0;34m)\u001b[0m\u001b[0;34m:\u001b[0m\u001b[0;34m\u001b[0m\u001b[0;34m\u001b[0m\u001b[0m\n\u001b[0;32m-> 1361\u001b[0;31m         \u001b[0;32mreturn\u001b[0m \u001b[0mself\u001b[0m\u001b[0;34m.\u001b[0m\u001b[0mchannel\u001b[0m\u001b[0;34m.\u001b[0m\u001b[0mrecv\u001b[0m\u001b[0;34m(\u001b[0m\u001b[0msize\u001b[0m\u001b[0;34m)\u001b[0m\u001b[0;34m\u001b[0m\u001b[0;34m\u001b[0m\u001b[0m\n\u001b[0m\u001b[1;32m   1362\u001b[0m \u001b[0;34m\u001b[0m\u001b[0m\n\u001b[1;32m   1363\u001b[0m     \u001b[0;32mdef\u001b[0m \u001b[0m_write\u001b[0m\u001b[0;34m(\u001b[0m\u001b[0mself\u001b[0m\u001b[0;34m,\u001b[0m \u001b[0mdata\u001b[0m\u001b[0;34m)\u001b[0m\u001b[0;34m:\u001b[0m\u001b[0;34m\u001b[0m\u001b[0;34m\u001b[0m\u001b[0m\n",
      "\u001b[0;32m/opt/conda/lib/python3.9/site-packages/paramiko/channel.py\u001b[0m in \u001b[0;36mrecv\u001b[0;34m(self, nbytes)\u001b[0m\n\u001b[1;32m    697\u001b[0m         \"\"\"\n\u001b[1;32m    698\u001b[0m         \u001b[0;32mtry\u001b[0m\u001b[0;34m:\u001b[0m\u001b[0;34m\u001b[0m\u001b[0;34m\u001b[0m\u001b[0m\n\u001b[0;32m--> 699\u001b[0;31m             \u001b[0mout\u001b[0m \u001b[0;34m=\u001b[0m \u001b[0mself\u001b[0m\u001b[0;34m.\u001b[0m\u001b[0min_buffer\u001b[0m\u001b[0;34m.\u001b[0m\u001b[0mread\u001b[0m\u001b[0;34m(\u001b[0m\u001b[0mnbytes\u001b[0m\u001b[0;34m,\u001b[0m \u001b[0mself\u001b[0m\u001b[0;34m.\u001b[0m\u001b[0mtimeout\u001b[0m\u001b[0;34m)\u001b[0m\u001b[0;34m\u001b[0m\u001b[0;34m\u001b[0m\u001b[0m\n\u001b[0m\u001b[1;32m    700\u001b[0m         \u001b[0;32mexcept\u001b[0m \u001b[0mPipeTimeout\u001b[0m\u001b[0;34m:\u001b[0m\u001b[0;34m\u001b[0m\u001b[0;34m\u001b[0m\u001b[0m\n\u001b[1;32m    701\u001b[0m             \u001b[0;32mraise\u001b[0m \u001b[0msocket\u001b[0m\u001b[0;34m.\u001b[0m\u001b[0mtimeout\u001b[0m\u001b[0;34m(\u001b[0m\u001b[0;34m)\u001b[0m\u001b[0;34m\u001b[0m\u001b[0;34m\u001b[0m\u001b[0m\n",
      "\u001b[0;32m/opt/conda/lib/python3.9/site-packages/paramiko/buffered_pipe.py\u001b[0m in \u001b[0;36mread\u001b[0;34m(self, nbytes, timeout)\u001b[0m\n\u001b[1;32m    158\u001b[0m                 \u001b[0;32mwhile\u001b[0m \u001b[0;34m(\u001b[0m\u001b[0mlen\u001b[0m\u001b[0;34m(\u001b[0m\u001b[0mself\u001b[0m\u001b[0;34m.\u001b[0m\u001b[0m_buffer\u001b[0m\u001b[0;34m)\u001b[0m \u001b[0;34m==\u001b[0m \u001b[0;36m0\u001b[0m\u001b[0;34m)\u001b[0m \u001b[0;32mand\u001b[0m \u001b[0;32mnot\u001b[0m \u001b[0mself\u001b[0m\u001b[0;34m.\u001b[0m\u001b[0m_closed\u001b[0m\u001b[0;34m:\u001b[0m\u001b[0;34m\u001b[0m\u001b[0;34m\u001b[0m\u001b[0m\n\u001b[1;32m    159\u001b[0m                     \u001b[0mthen\u001b[0m \u001b[0;34m=\u001b[0m \u001b[0mtime\u001b[0m\u001b[0;34m.\u001b[0m\u001b[0mtime\u001b[0m\u001b[0;34m(\u001b[0m\u001b[0;34m)\u001b[0m\u001b[0;34m\u001b[0m\u001b[0;34m\u001b[0m\u001b[0m\n\u001b[0;32m--> 160\u001b[0;31m                     \u001b[0mself\u001b[0m\u001b[0;34m.\u001b[0m\u001b[0m_cv\u001b[0m\u001b[0;34m.\u001b[0m\u001b[0mwait\u001b[0m\u001b[0;34m(\u001b[0m\u001b[0mtimeout\u001b[0m\u001b[0;34m)\u001b[0m\u001b[0;34m\u001b[0m\u001b[0;34m\u001b[0m\u001b[0m\n\u001b[0m\u001b[1;32m    161\u001b[0m                     \u001b[0;32mif\u001b[0m \u001b[0mtimeout\u001b[0m \u001b[0;32mis\u001b[0m \u001b[0;32mnot\u001b[0m \u001b[0;32mNone\u001b[0m\u001b[0;34m:\u001b[0m\u001b[0;34m\u001b[0m\u001b[0;34m\u001b[0m\u001b[0m\n\u001b[1;32m    162\u001b[0m                         \u001b[0mtimeout\u001b[0m \u001b[0;34m-=\u001b[0m \u001b[0mtime\u001b[0m\u001b[0;34m.\u001b[0m\u001b[0mtime\u001b[0m\u001b[0;34m(\u001b[0m\u001b[0;34m)\u001b[0m \u001b[0;34m-\u001b[0m \u001b[0mthen\u001b[0m\u001b[0;34m\u001b[0m\u001b[0;34m\u001b[0m\u001b[0m\n",
      "\u001b[0;32m/opt/conda/lib/python3.9/threading.py\u001b[0m in \u001b[0;36mwait\u001b[0;34m(self, timeout)\u001b[0m\n\u001b[1;32m    310\u001b[0m         \u001b[0;32mtry\u001b[0m\u001b[0;34m:\u001b[0m    \u001b[0;31m# restore state no matter what (e.g., KeyboardInterrupt)\u001b[0m\u001b[0;34m\u001b[0m\u001b[0;34m\u001b[0m\u001b[0m\n\u001b[1;32m    311\u001b[0m             \u001b[0;32mif\u001b[0m \u001b[0mtimeout\u001b[0m \u001b[0;32mis\u001b[0m \u001b[0;32mNone\u001b[0m\u001b[0;34m:\u001b[0m\u001b[0;34m\u001b[0m\u001b[0;34m\u001b[0m\u001b[0m\n\u001b[0;32m--> 312\u001b[0;31m                 \u001b[0mwaiter\u001b[0m\u001b[0;34m.\u001b[0m\u001b[0macquire\u001b[0m\u001b[0;34m(\u001b[0m\u001b[0;34m)\u001b[0m\u001b[0;34m\u001b[0m\u001b[0;34m\u001b[0m\u001b[0m\n\u001b[0m\u001b[1;32m    313\u001b[0m                 \u001b[0mgotit\u001b[0m \u001b[0;34m=\u001b[0m \u001b[0;32mTrue\u001b[0m\u001b[0;34m\u001b[0m\u001b[0;34m\u001b[0m\u001b[0m\n\u001b[1;32m    314\u001b[0m             \u001b[0;32melse\u001b[0m\u001b[0;34m:\u001b[0m\u001b[0;34m\u001b[0m\u001b[0;34m\u001b[0m\u001b[0m\n",
      "\u001b[0;31mKeyboardInterrupt\u001b[0m: "
     ]
    }
   ],
   "source": [
    "big_buck_bunny_url = \"https://nyu.box.com/shared/static/d6btpwf5lqmkqh53b52ynhmfthh2qtby.tgz\"\n",
    "\n",
    "h2.execute(\"sudo apt install -y apache2\")\n",
    "h2.execute(f\"wget {big_buck_bunny_url} -O media.tgz -o wget.log\")\n",
    "h2.execute(\"sudo tar -v -xzf media.tgz -C /var/www/html/\")\n",
    "h2.execute(\"ls /var/www/html/media/BigBuckBunny/4sec\")"
   ]
  },
  {
   "cell_type": "markdown",
   "metadata": {},
   "source": [
    "## Set up HTTP/2 DASH Video Streaming Client"
   ]
  },
  {
   "cell_type": "code",
   "execution_count": 31,
   "metadata": {},
   "outputs": [
    {
     "data": {
      "text/plain": [
       "('', \"Cloning into 'AStream'...\\n\")"
      ]
     },
     "execution_count": 31,
     "metadata": {},
     "output_type": "execute_result"
    }
   ],
   "source": [
    "h1.execute(\"sudo apt install -y python2 ffmpeg\")\n",
    "h1.execute(\"git clone https://github.com/pari685/AStream\")"
   ]
  },
  {
   "cell_type": "markdown",
   "metadata": {},
   "source": [
    "## Execute HTTP/2 DASH Streaming Client\n",
    "Start streaming the video from the client to the server. For this experient, the client requests 30 segments using the `basic` adaptation policy."
   ]
  },
  {
   "cell_type": "code",
   "execution_count": null,
   "metadata": {},
   "outputs": [],
   "source": [
    "policy = \"basic\"\n",
    "segments = 30\n",
    "\n",
    "h1.execute(f\"python2 ~/AStream/dist/client/dash_client.py -m http://10.0.2.2/media/BigBuckBunny/4sec/BigBuckBunny_4s.mpd -p '{policy}' -n {segments}\")"
   ]
  },
  {
   "cell_type": "markdown",
   "metadata": {},
   "source": [
    "Once the streaming is finished, list out the log files."
   ]
  },
  {
   "cell_type": "code",
   "execution_count": 8,
   "metadata": {},
   "outputs": [
    {
     "data": {
      "text/plain": [
       "('total 76\\n 4 drwxrwxr-x 2 ubuntu ubuntu  4096 Nov 12 19:29 .\\n 4 drwxr-xr-x 8 ubuntu ubuntu  4096 Nov 12 19:29 ..\\n60 -rw-rw-r-- 1 ubuntu ubuntu 58032 Nov 12 19:31 DASH_RUNTIME_LOG_netflix_2022-11-12.19_29_36.log\\n 4 -rw-rw-r-- 1 ubuntu ubuntu  2798 Nov 12 19:31 DASH_BUFFER_LOG_2022-11-12.19_29_36.csv\\n 4 -rw-rw-r-- 1 ubuntu ubuntu  2393 Nov 12 19:31 ASTREAM_2022-11-12.19_29_36.json\\n',\n",
       " '')"
      ]
     },
     "execution_count": 8,
     "metadata": {},
     "output_type": "execute_result"
    }
   ],
   "source": [
    "h1.execute(\"ls -alstr ~/\")\n",
    "h1.execute(\"ls -alstr ~/ASTREAM_LOGS\")"
   ]
  },
  {
   "cell_type": "markdown",
   "metadata": {},
   "source": [
    "Download the log files for data analysis."
   ]
  },
  {
   "cell_type": "code",
   "execution_count": 2,
   "metadata": {},
   "outputs": [],
   "source": [
    "dash_buffer_log = \"DASH_BUFFER_LOG_2022-11-14.03_47_29.csv\"\n",
    "save_path = \"/home/fabric/work/jupyter-examples-rel1.3.3/fabric_examples/complex_recipes/P4_bmv2/csv\"\n",
    "h1.download_file(f\"{save_path}/DASH_BUFFER_LOG.csv\", f\"/home/ubuntu/ASTREAM_LOGS/{dash_buffer_log}\")"
   ]
  },
  {
   "cell_type": "markdown",
   "metadata": {},
   "source": [
    "## Kill the P4 Switches\n",
    "\n",
    "You can run the following block to kill BMv2 on all of the switches, which will obviously clear out the routing tables. You can go back up to the section on \"Configure Switches\" to restart the switches and add new routing rules."
   ]
  },
  {
   "cell_type": "code",
   "execution_count": 72,
   "metadata": {},
   "outputs": [
    {
     "name": "stdout",
     "output_type": "stream",
     "text": [
      "('', '')\n",
      "('', '')\n",
      "('', '')\n"
     ]
    }
   ],
   "source": [
    "for switch_obj in [s1, s2, s3]:\n",
    "    o = switch_obj.execute(\"sudo docker exec -d -it fabric_p4 sh -c 'sudo killall -s 9 simple_switch'\")\n",
    "    print(o)"
   ]
  },
  {
   "cell_type": "markdown",
   "metadata": {},
   "source": [
    "## Data Analysis"
   ]
  },
  {
   "cell_type": "code",
   "execution_count": 6,
   "metadata": {},
   "outputs": [
    {
     "name": "stdout",
     "output_type": "stream",
     "text": [
      "Both Paths 374015.7878787879\n",
      "Fast Path 304320.2121212121\n",
      "Slow Path 241798.63636363635\n"
     ]
    },
    {
     "data": {
      "image/png": "[encoded data removed]",
      "text/plain": [
       "<Figure size 432x288 with 1 Axes>"
      ]
     },
     "metadata": {
      "needs_background": "light"
     },
     "output_type": "display_data"
    }
   ],
   "source": [
    "import matplotlib.pyplot as plt\n",
    "import matplotlib.patches as mpatches\n",
    "import pandas as pd\n",
    "import numpy as np\n",
    "\n",
    "c = {'INITIAL_BUFFERING': 'violet', 'PLAY': 'lightcyan', 'BUFFERING': 'lightpink'}\n",
    "\n",
    "plt.title(\"Video Rate over a Single Trial\");\n",
    "plt.ylabel(\"Video rate (bps)\")\n",
    "plt.xlabel(\"Time (s)\");\n",
    "patches = []\n",
    "\n",
    "files = [\n",
    "            (\"DASH_BUFFER_LOG_current4.csv\", \"purple\", \"Current-slow-5000-basic\"),\n",
    "            (\"DASH_BUFFER_LOG_current9.csv\", \"purple\", \"Current-slow-5000-basic2\"),\n",
    "            (\"DASH_BUFFER_LOG_current10.csv\", \"purple\", \"Current-slow-5000-basic2\"),\n",
    "            (\"DASH_BUFFER_LOG_current11.csv\", \"purple\", \"Current-slow-5000-basic2\"),\n",
    "    \n",
    "            (\"DASH_BUFFER_LOG_current5.csv\", \"red\", \"Current-both-5000-basic\"),\n",
    "            (\"DASH_BUFFER_LOG_current6.csv\", \"red\", \"Current-both-5000-basic2\"),\n",
    "            (\"DASH_BUFFER_LOG_current12.csv\", \"red\", \"Current-both-5000-basic2\"),\n",
    "\n",
    "            (\"DASH_BUFFER_LOG_current7.csv\", \"green\", \"Current-fast-5000-basic\"),\n",
    "            (\"DASH_BUFFER_LOG_current8.csv\", \"green\", \"Current-fast-5000-basic2\"),\n",
    "            (\"DASH_BUFFER_LOG_current13.csv\", \"green\", \"Current-fast-5000-basic2\"),\n",
    "]\n",
    "\n",
    "# I selected 3 of the top \n",
    "files = [\n",
    "    (\"DASH_BUFFER_LOG_current12.csv\", \"red\", \"Both Paths\"),\n",
    "    (\"DASH_BUFFER_LOG_current7.csv\", \"green\", \"Fast Path\"),\n",
    "    (\"DASH_BUFFER_LOG_current4.csv\", \"purple\", \"Slow Path\"),\n",
    "]\n",
    "\n",
    "for file, color, label in files:\n",
    "    dash = pd.read_csv(f\"{save_path}/{file}\")\n",
    "    #print(dash)\n",
    "    \n",
    "    dash = dash.loc[dash.CurrentPlaybackState.isin(c.keys() )]\n",
    "    \n",
    "    #print(dash)\n",
    "    #[print(row) for row in dash.iterrows()]\n",
    "    states = pd.DataFrame({'startState': dash.CurrentPlaybackState[0:-2].values, 'startTime': dash.EpochTime[0:-2].values,\n",
    "                            'endState':  dash.CurrentPlaybackState[1:-1].values, 'endTime':   dash.EpochTime[1:-1].values})\n",
    "\n",
    "\n",
    "    #for index, s in states.iterrows():\n",
    "    #  plt.axvspan(s['startTime'], s['endTime'],  color=c[s['startState']], alpha=1) \n",
    "\n",
    "    plt.plot(dash[dash.Action!=\"Writing\"].EpochTime, dash[dash.Action!=\"Writing\"].Bitrate, '.:', color=color)\n",
    "    patches.append(mpatches.Patch(color=color, label=label))\n",
    "    print(label, np.average(dash[dash.Action!=\"Writing\"].Bitrate))\n",
    "\n",
    "    \n",
    "plt.legend(handles=patches)\n",
    "plt.tight_layout()\n",
    "plt.savefig(f'{save_path}/single_trial.png', dpi=900)\n",
    "\n"
   ]
  },
  {
   "cell_type": "code",
   "execution_count": 8,
   "metadata": {},
   "outputs": [
    {
     "name": "stdout",
     "output_type": "stream",
     "text": [
      "[379200.8181818182, 352013.24242424243, 374015.7878787879]\n",
      "[304320.2121212121, 298477.0, 296080.57575757575]\n",
      "[241798.63636363635, 261129.72727272726, 271885.0606060606, 220049.0606060606]\n"
     ]
    },
    {
     "data": {
      "image/png": "[encoded data removed]",
      "text/plain": [
       "<Figure size 432x288 with 1 Axes>"
      ]
     },
     "metadata": {
      "needs_background": "light"
     },
     "output_type": "display_data"
    }
   ],
   "source": [
    "files_dict = {'Both Paths': [\"DASH_BUFFER_LOG_current13.csv\", \"DASH_BUFFER_LOG_current6.csv\", \"DASH_BUFFER_LOG_current12.csv\"],\n",
    "              'Fast Path': [\"DASH_BUFFER_LOG_current7.csv\", \"DASH_BUFFER_LOG_current8.csv\", \"DASH_BUFFER_LOG_current5.csv\"],\n",
    "              'Slow Path': [\"DASH_BUFFER_LOG_current4.csv\", \"DASH_BUFFER_LOG_current9.csv\", \"DASH_BUFFER_LOG_current10.csv\", \"DASH_BUFFER_LOG_current11.csv\"],\n",
    "       }\n",
    "\n",
    "\n",
    "keys = list(files_dict.keys())\n",
    "files_arrays = list(files_dict.values())\n",
    "\n",
    "data = []\n",
    "\n",
    "for files in files_arrays:\n",
    "    vals = []\n",
    "    for file in files:\n",
    "        dash = pd.read_csv(f\"{save_path}/{file}\")\n",
    "        dash = dash.loc[dash.CurrentPlaybackState.isin(c.keys() )]\n",
    "        val = np.average(dash[dash.Action!=\"Writing\"].Bitrate)\n",
    "        vals.append(val)\n",
    "    data.append(np.average(vals))\n",
    "    print(vals)\n",
    "\n",
    "#print(data)\n",
    "    \n",
    "plt.bar(keys, data, color =(\"red\", \"green\", \"blue\"), width = 0.4)\n",
    "#plt.xlabel(\"Courses offered\")\n",
    "plt.ylabel(\"Video rate (bps)\")\n",
    "plt.title(\"Average Bitrate across Trials\");\n",
    "#plt.show()\n",
    "\n",
    "plt.tight_layout()\n",
    "plt.savefig(f'{save_path}/avg_trials.png', dpi=900)"
   ]
  },
  {
   "cell_type": "markdown",
   "metadata": {},
   "source": [
    "# QUIC Video Streaming\n",
    "\n",
    "In this section, we set up our server with a QUIC server to host the content instead of the HTTP/2 based solution. "
   ]
  },
  {
   "cell_type": "code",
   "execution_count": null,
   "metadata": {},
   "outputs": [],
   "source": [
    "h2.execute(\"git clone https://chromium.googlesource.com/chromium/tools/depot_tools.git\")\n",
    "h2.execute('export PATH=\"$PATH:${HOME}/depot_tools\"')\n",
    "h2.execute(\"mkdir ~/chromium && cd ~/chromium\")\n",
    "h2.execute(\"fetch --nohooks --no-history chromium\")\n",
    "h2.execute(\"cd src\")\n",
    "h2.execute(\"./build/install-build-deps.sh\")\n",
    "h2.execute(\"gclient runhooks\")\n",
    "h2.execute(\"gn gen out/Debug\")\n"
   ]
  },
  {
   "cell_type": "code",
   "execution_count": 67,
   "metadata": {},
   "outputs": [
    {
     "data": {
      "text/plain": [
       "('', \"Cloning into 'quic-streaming'...\\n\")"
      ]
     },
     "execution_count": 67,
     "metadata": {},
     "output_type": "execute_result"
    }
   ],
   "source": [
    "h1.execute(\"git clone https://github.com/sevketarisu/quic-streaming.git\")"
   ]
  },
  {
   "cell_type": "code",
   "execution_count": null,
   "metadata": {},
   "outputs": [],
   "source": [
    "policy = \"basic\"\n",
    "segments = 30\n",
    "\n",
    "h1.execute(f\"python2 ~/quic-streaming/AStreamPlayerQUIC/src/dist/client/dash_client.py -m http://10.0.2.2/media/BigBuckBunny/4sec/BigBuckBunny_4s.mpd -p '{policy}' -n {segments} --QUIC\")"
   ]
  },
  {
   "cell_type": "markdown",
   "metadata": {},
   "source": [
    "## Delete Slice"
   ]
  },
  {
   "cell_type": "code",
   "execution_count": null,
   "metadata": {},
   "outputs": [],
   "source": [
    "try:\n",
    "    slice = fablib.get_slice(name=slice_name)\n",
    "    slice.delete()\n",
    "except Exception as e:\n",
    "    print(f\"Fail: {e}\")\n",
    "    traceback.print_exc()"
   ]
  },
  {
   "cell_type": "code",
   "execution_count": null,
   "metadata": {},
   "outputs": [],
   "source": []
  }
 ],
 "metadata": {
  "kernelspec": {
   "display_name": "Python 3 (ipykernel)",
   "language": "python",
   "name": "python3"
  },
  "language_info": {
   "codemirror_mode": {
    "name": "ipython",
    "version": 3
   },
   "file_extension": ".py",
   "mimetype": "text/x-python",
   "name": "python",
   "nbconvert_exporter": "python",
   "pygments_lexer": "ipython3",
   "version": "3.9.7"
  }
 },
 "nbformat": 4,
 "nbformat_minor": 4
}
